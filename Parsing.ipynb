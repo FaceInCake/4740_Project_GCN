{
 "cells": [
  {
   "cell_type": "code",
   "execution_count": 1,
   "metadata": {},
   "outputs": [],
   "source": [
    "# Code for converting `CategoryList.csv` into a `label_map.pbtxt``\n",
    "\n",
    "from Parsing import get_categories\n",
    "with open(\"Data/Records/label_map.pbtxt\", 'w') as fout:\n",
    "    categoryList = get_categories()\n",
    "    for cat in categoryList.values():\n",
    "        fout.write(f\"\"\"\n",
    "item {{\n",
    "  id: {cat.id}\n",
    "  name: {cat.name}\n",
    "}}\n",
    "\"\"\"     )"
   ]
  },
  {
   "cell_type": "code",
   "execution_count": 3,
   "metadata": {},
   "outputs": [],
   "source": [
    "# Code for converting `instances_<dataset>2017.json` into a `ImageList_<dataset>.csv`\n",
    "\n",
    "from json import load as load_json\n",
    "\n",
    "def __convert_file_to_image_list (type):\n",
    "    with open(f\"Data/annotations/instances_{type}2017.json\") as fin:\n",
    "        obj = load_json(fin)\n",
    "    with open(f\"Data/ParsedAnnotations/ImageList_{type}.csv\", 'w') as fout:\n",
    "        fout.write(\"id\\twidth\\theight\\tfile_name\\n\")\n",
    "        for img in obj['images']:\n",
    "            fout.write(f\"{img['id']}\\t{img['width']}\\t{img['height']}\\t{img['file_name']}\\n\")\n",
    "\n",
    "__convert_file_to_image_list('val')\n",
    "__convert_file_to_image_list('train')"
   ]
  }
 ],
 "metadata": {
  "kernelspec": {
   "display_name": ".venv",
   "language": "python",
   "name": "python3"
  },
  "language_info": {
   "codemirror_mode": {
    "name": "ipython",
    "version": 3
   },
   "file_extension": ".py",
   "mimetype": "text/x-python",
   "name": "python",
   "nbconvert_exporter": "python",
   "pygments_lexer": "ipython3",
   "version": "3.11.5"
  }
 },
 "nbformat": 4,
 "nbformat_minor": 2
}
